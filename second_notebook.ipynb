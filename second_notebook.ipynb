{
 "cells": [
  {
   "cell_type": "code",
   "execution_count": 1,
   "id": "cb9a7faa-48a5-4833-8ef0-0a3f06f998ce",
   "metadata": {},
   "outputs": [],
   "source": [
    "import pandas as pd \n",
    "import numpy as np\n",
    "import matplotlib.pyplot as plt\n",
    "import seaborn as sns\n",
    "import os\n",
    "from scipy import stats\n",
    "\n",
    "from wrangle import get_pokemon, prepare_pokemon, train_validate_test, get_object_cols, get_numeric_X_cols, ready_for_battle"
   ]
  },
  {
   "cell_type": "markdown",
   "id": "a4871cea-9b94-4054-a421-7a4148864f37",
   "metadata": {},
   "source": [
    "I just started playing Pokemon Sword, it's nothing like I expected so far. I have no idea who any of these Pokemon are.\n",
    "My starter was Scorbunny, a clearly visible fire type hyper-bunny. On the search for a perfect female Yamper, I leveled him up so much that he is now Raboot. My rival hasn't even evolved his yet...I knocked him out. \n",
    "\n",
    "I'm starting to train for my first gym battle. I'm a little nervous, because I know my Raboot does well against certain Pokemon, but there are some where he doesn't inflict damage as expected and I have to resort to going through my party to see who's going to take care of my opponent. \n",
    "\n",
    "However, Raboot is my main guy. I depend on him to do the most damage, take the least damage, and may he carry us through all of our battles so my other Pokemon can (mostly) sit out and get EXP. There are just times I really rely on my Yampers, \n",
    "\n",
    "but when should I pull Raboot from battle so I don't have to waste any potions/revives in case he goes up against someone he would fall against? \n",
    "\n",
    "I need to find out...if I am warned about who's going up against my bunny, when should I switch him out for another party member? "
   ]
  },
  {
   "cell_type": "markdown",
   "id": "205773a0-c5b2-40f8-9cf3-d02e096f9b97",
   "metadata": {},
   "source": [
    "I think an approach I will take is to be able to predict type_1. Since there are 18 types but only less than a thousand pokemon (not including the megas, which I still don't know the difference) I think it's best to just try to see if my model can predict if a pokemon is going to be a threat to my Raboot"
   ]
  },
  {
   "cell_type": "code",
   "execution_count": 2,
   "id": "7d72e53b-93ae-423d-adff-38235b54728b",
   "metadata": {},
   "outputs": [],
   "source": [
    "#read the csv\n",
    "df = get_pokemon()"
   ]
  },
  {
   "cell_type": "code",
   "execution_count": 3,
   "id": "ff1067c6-86ce-46f4-9dd7-6cdc1104afec",
   "metadata": {},
   "outputs": [],
   "source": [
    "#handle missing values and drop the columns we are sure we aren't using\n",
    "df = prepare_pokemon(df)"
   ]
  },
  {
   "cell_type": "code",
   "execution_count": 4,
   "id": "4adb1c48-1ce2-4b6b-ae19-de48ae41eb4b",
   "metadata": {},
   "outputs": [
    {
     "data": {
      "text/html": [
       "<div>\n",
       "<style scoped>\n",
       "    .dataframe tbody tr th:only-of-type {\n",
       "        vertical-align: middle;\n",
       "    }\n",
       "\n",
       "    .dataframe tbody tr th {\n",
       "        vertical-align: top;\n",
       "    }\n",
       "\n",
       "    .dataframe thead th {\n",
       "        text-align: right;\n",
       "    }\n",
       "</style>\n",
       "<table border=\"1\" class=\"dataframe\">\n",
       "  <thead>\n",
       "    <tr style=\"text-align: right;\">\n",
       "      <th></th>\n",
       "      <th>pokedex_number</th>\n",
       "      <th>name</th>\n",
       "      <th>generation</th>\n",
       "      <th>status</th>\n",
       "      <th>species</th>\n",
       "      <th>type_number</th>\n",
       "      <th>type_1</th>\n",
       "      <th>type_2</th>\n",
       "      <th>height_m</th>\n",
       "      <th>weight_kg</th>\n",
       "      <th>...</th>\n",
       "      <th>against_ground</th>\n",
       "      <th>against_flying</th>\n",
       "      <th>against_psychic</th>\n",
       "      <th>against_bug</th>\n",
       "      <th>against_rock</th>\n",
       "      <th>against_ghost</th>\n",
       "      <th>against_dragon</th>\n",
       "      <th>against_dark</th>\n",
       "      <th>against_steel</th>\n",
       "      <th>against_fairy</th>\n",
       "    </tr>\n",
       "  </thead>\n",
       "  <tbody>\n",
       "    <tr>\n",
       "      <th>0</th>\n",
       "      <td>1</td>\n",
       "      <td>Bulbasaur</td>\n",
       "      <td>1</td>\n",
       "      <td>Normal</td>\n",
       "      <td>Seed Pokémon</td>\n",
       "      <td>2</td>\n",
       "      <td>Grass</td>\n",
       "      <td>Poison</td>\n",
       "      <td>0.7</td>\n",
       "      <td>6.9</td>\n",
       "      <td>...</td>\n",
       "      <td>1.0</td>\n",
       "      <td>2.0</td>\n",
       "      <td>2.0</td>\n",
       "      <td>1.0</td>\n",
       "      <td>1.0</td>\n",
       "      <td>1.0</td>\n",
       "      <td>1.0</td>\n",
       "      <td>1.0</td>\n",
       "      <td>1.0</td>\n",
       "      <td>0.5</td>\n",
       "    </tr>\n",
       "    <tr>\n",
       "      <th>1</th>\n",
       "      <td>2</td>\n",
       "      <td>Ivysaur</td>\n",
       "      <td>1</td>\n",
       "      <td>Normal</td>\n",
       "      <td>Seed Pokémon</td>\n",
       "      <td>2</td>\n",
       "      <td>Grass</td>\n",
       "      <td>Poison</td>\n",
       "      <td>1.0</td>\n",
       "      <td>13.0</td>\n",
       "      <td>...</td>\n",
       "      <td>1.0</td>\n",
       "      <td>2.0</td>\n",
       "      <td>2.0</td>\n",
       "      <td>1.0</td>\n",
       "      <td>1.0</td>\n",
       "      <td>1.0</td>\n",
       "      <td>1.0</td>\n",
       "      <td>1.0</td>\n",
       "      <td>1.0</td>\n",
       "      <td>0.5</td>\n",
       "    </tr>\n",
       "    <tr>\n",
       "      <th>2</th>\n",
       "      <td>3</td>\n",
       "      <td>Venusaur</td>\n",
       "      <td>1</td>\n",
       "      <td>Normal</td>\n",
       "      <td>Seed Pokémon</td>\n",
       "      <td>2</td>\n",
       "      <td>Grass</td>\n",
       "      <td>Poison</td>\n",
       "      <td>2.0</td>\n",
       "      <td>100.0</td>\n",
       "      <td>...</td>\n",
       "      <td>1.0</td>\n",
       "      <td>2.0</td>\n",
       "      <td>2.0</td>\n",
       "      <td>1.0</td>\n",
       "      <td>1.0</td>\n",
       "      <td>1.0</td>\n",
       "      <td>1.0</td>\n",
       "      <td>1.0</td>\n",
       "      <td>1.0</td>\n",
       "      <td>0.5</td>\n",
       "    </tr>\n",
       "    <tr>\n",
       "      <th>3</th>\n",
       "      <td>3</td>\n",
       "      <td>Mega Venusaur</td>\n",
       "      <td>1</td>\n",
       "      <td>Normal</td>\n",
       "      <td>Seed Pokémon</td>\n",
       "      <td>2</td>\n",
       "      <td>Grass</td>\n",
       "      <td>Poison</td>\n",
       "      <td>2.4</td>\n",
       "      <td>155.5</td>\n",
       "      <td>...</td>\n",
       "      <td>1.0</td>\n",
       "      <td>2.0</td>\n",
       "      <td>2.0</td>\n",
       "      <td>1.0</td>\n",
       "      <td>1.0</td>\n",
       "      <td>1.0</td>\n",
       "      <td>1.0</td>\n",
       "      <td>1.0</td>\n",
       "      <td>1.0</td>\n",
       "      <td>0.5</td>\n",
       "    </tr>\n",
       "    <tr>\n",
       "      <th>4</th>\n",
       "      <td>4</td>\n",
       "      <td>Charmander</td>\n",
       "      <td>1</td>\n",
       "      <td>Normal</td>\n",
       "      <td>Lizard Pokémon</td>\n",
       "      <td>1</td>\n",
       "      <td>Fire</td>\n",
       "      <td>None</td>\n",
       "      <td>0.6</td>\n",
       "      <td>8.5</td>\n",
       "      <td>...</td>\n",
       "      <td>2.0</td>\n",
       "      <td>1.0</td>\n",
       "      <td>1.0</td>\n",
       "      <td>0.5</td>\n",
       "      <td>2.0</td>\n",
       "      <td>1.0</td>\n",
       "      <td>1.0</td>\n",
       "      <td>1.0</td>\n",
       "      <td>0.5</td>\n",
       "      <td>0.5</td>\n",
       "    </tr>\n",
       "    <tr>\n",
       "      <th>...</th>\n",
       "      <td>...</td>\n",
       "      <td>...</td>\n",
       "      <td>...</td>\n",
       "      <td>...</td>\n",
       "      <td>...</td>\n",
       "      <td>...</td>\n",
       "      <td>...</td>\n",
       "      <td>...</td>\n",
       "      <td>...</td>\n",
       "      <td>...</td>\n",
       "      <td>...</td>\n",
       "      <td>...</td>\n",
       "      <td>...</td>\n",
       "      <td>...</td>\n",
       "      <td>...</td>\n",
       "      <td>...</td>\n",
       "      <td>...</td>\n",
       "      <td>...</td>\n",
       "      <td>...</td>\n",
       "      <td>...</td>\n",
       "      <td>...</td>\n",
       "    </tr>\n",
       "    <tr>\n",
       "      <th>1037</th>\n",
       "      <td>896</td>\n",
       "      <td>Glastrier</td>\n",
       "      <td>8</td>\n",
       "      <td>Sub Legendary</td>\n",
       "      <td>Wild Horse Pokémon</td>\n",
       "      <td>1</td>\n",
       "      <td>Ice</td>\n",
       "      <td>None</td>\n",
       "      <td>2.2</td>\n",
       "      <td>800.0</td>\n",
       "      <td>...</td>\n",
       "      <td>1.0</td>\n",
       "      <td>1.0</td>\n",
       "      <td>1.0</td>\n",
       "      <td>1.0</td>\n",
       "      <td>2.0</td>\n",
       "      <td>1.0</td>\n",
       "      <td>1.0</td>\n",
       "      <td>1.0</td>\n",
       "      <td>2.0</td>\n",
       "      <td>1.0</td>\n",
       "    </tr>\n",
       "    <tr>\n",
       "      <th>1038</th>\n",
       "      <td>897</td>\n",
       "      <td>Spectrier</td>\n",
       "      <td>8</td>\n",
       "      <td>Sub Legendary</td>\n",
       "      <td>Swift Horse Pokémon</td>\n",
       "      <td>1</td>\n",
       "      <td>Ghost</td>\n",
       "      <td>None</td>\n",
       "      <td>2.0</td>\n",
       "      <td>44.5</td>\n",
       "      <td>...</td>\n",
       "      <td>1.0</td>\n",
       "      <td>1.0</td>\n",
       "      <td>1.0</td>\n",
       "      <td>0.5</td>\n",
       "      <td>1.0</td>\n",
       "      <td>2.0</td>\n",
       "      <td>1.0</td>\n",
       "      <td>2.0</td>\n",
       "      <td>1.0</td>\n",
       "      <td>1.0</td>\n",
       "    </tr>\n",
       "    <tr>\n",
       "      <th>1039</th>\n",
       "      <td>898</td>\n",
       "      <td>Calyrex</td>\n",
       "      <td>8</td>\n",
       "      <td>Legendary</td>\n",
       "      <td>King Pokémon</td>\n",
       "      <td>2</td>\n",
       "      <td>Psychic</td>\n",
       "      <td>Grass</td>\n",
       "      <td>1.1</td>\n",
       "      <td>7.7</td>\n",
       "      <td>...</td>\n",
       "      <td>0.5</td>\n",
       "      <td>2.0</td>\n",
       "      <td>0.5</td>\n",
       "      <td>4.0</td>\n",
       "      <td>1.0</td>\n",
       "      <td>2.0</td>\n",
       "      <td>1.0</td>\n",
       "      <td>2.0</td>\n",
       "      <td>1.0</td>\n",
       "      <td>1.0</td>\n",
       "    </tr>\n",
       "    <tr>\n",
       "      <th>1040</th>\n",
       "      <td>898</td>\n",
       "      <td>Calyrex Ice Rider</td>\n",
       "      <td>8</td>\n",
       "      <td>Legendary</td>\n",
       "      <td>High King Pokémon</td>\n",
       "      <td>2</td>\n",
       "      <td>Psychic</td>\n",
       "      <td>Ice</td>\n",
       "      <td>2.4</td>\n",
       "      <td>809.1</td>\n",
       "      <td>...</td>\n",
       "      <td>1.0</td>\n",
       "      <td>1.0</td>\n",
       "      <td>0.5</td>\n",
       "      <td>2.0</td>\n",
       "      <td>2.0</td>\n",
       "      <td>2.0</td>\n",
       "      <td>1.0</td>\n",
       "      <td>2.0</td>\n",
       "      <td>2.0</td>\n",
       "      <td>1.0</td>\n",
       "    </tr>\n",
       "    <tr>\n",
       "      <th>1041</th>\n",
       "      <td>898</td>\n",
       "      <td>Calyrex Shadow Rider</td>\n",
       "      <td>8</td>\n",
       "      <td>Legendary</td>\n",
       "      <td>High King Pokémon</td>\n",
       "      <td>2</td>\n",
       "      <td>Psychic</td>\n",
       "      <td>Ghost</td>\n",
       "      <td>2.4</td>\n",
       "      <td>53.6</td>\n",
       "      <td>...</td>\n",
       "      <td>1.0</td>\n",
       "      <td>1.0</td>\n",
       "      <td>0.5</td>\n",
       "      <td>1.0</td>\n",
       "      <td>1.0</td>\n",
       "      <td>4.0</td>\n",
       "      <td>1.0</td>\n",
       "      <td>4.0</td>\n",
       "      <td>1.0</td>\n",
       "      <td>1.0</td>\n",
       "    </tr>\n",
       "  </tbody>\n",
       "</table>\n",
       "<p>1042 rows × 48 columns</p>\n",
       "</div>"
      ],
      "text/plain": [
       "      pokedex_number                  name  generation         status  \\\n",
       "0                  1             Bulbasaur           1         Normal   \n",
       "1                  2               Ivysaur           1         Normal   \n",
       "2                  3              Venusaur           1         Normal   \n",
       "3                  3         Mega Venusaur           1         Normal   \n",
       "4                  4            Charmander           1         Normal   \n",
       "...              ...                   ...         ...            ...   \n",
       "1037             896             Glastrier           8  Sub Legendary   \n",
       "1038             897             Spectrier           8  Sub Legendary   \n",
       "1039             898               Calyrex           8      Legendary   \n",
       "1040             898     Calyrex Ice Rider           8      Legendary   \n",
       "1041             898  Calyrex Shadow Rider           8      Legendary   \n",
       "\n",
       "                  species  type_number   type_1  type_2  height_m  weight_kg  \\\n",
       "0            Seed Pokémon            2    Grass  Poison       0.7        6.9   \n",
       "1            Seed Pokémon            2    Grass  Poison       1.0       13.0   \n",
       "2            Seed Pokémon            2    Grass  Poison       2.0      100.0   \n",
       "3            Seed Pokémon            2    Grass  Poison       2.4      155.5   \n",
       "4          Lizard Pokémon            1     Fire    None       0.6        8.5   \n",
       "...                   ...          ...      ...     ...       ...        ...   \n",
       "1037   Wild Horse Pokémon            1      Ice    None       2.2      800.0   \n",
       "1038  Swift Horse Pokémon            1    Ghost    None       2.0       44.5   \n",
       "1039         King Pokémon            2  Psychic   Grass       1.1        7.7   \n",
       "1040    High King Pokémon            2  Psychic     Ice       2.4      809.1   \n",
       "1041    High King Pokémon            2  Psychic   Ghost       2.4       53.6   \n",
       "\n",
       "      ...  against_ground against_flying against_psychic against_bug  \\\n",
       "0     ...             1.0            2.0             2.0         1.0   \n",
       "1     ...             1.0            2.0             2.0         1.0   \n",
       "2     ...             1.0            2.0             2.0         1.0   \n",
       "3     ...             1.0            2.0             2.0         1.0   \n",
       "4     ...             2.0            1.0             1.0         0.5   \n",
       "...   ...             ...            ...             ...         ...   \n",
       "1037  ...             1.0            1.0             1.0         1.0   \n",
       "1038  ...             1.0            1.0             1.0         0.5   \n",
       "1039  ...             0.5            2.0             0.5         4.0   \n",
       "1040  ...             1.0            1.0             0.5         2.0   \n",
       "1041  ...             1.0            1.0             0.5         1.0   \n",
       "\n",
       "      against_rock  against_ghost  against_dragon  against_dark  \\\n",
       "0              1.0            1.0             1.0           1.0   \n",
       "1              1.0            1.0             1.0           1.0   \n",
       "2              1.0            1.0             1.0           1.0   \n",
       "3              1.0            1.0             1.0           1.0   \n",
       "4              2.0            1.0             1.0           1.0   \n",
       "...            ...            ...             ...           ...   \n",
       "1037           2.0            1.0             1.0           1.0   \n",
       "1038           1.0            2.0             1.0           2.0   \n",
       "1039           1.0            2.0             1.0           2.0   \n",
       "1040           2.0            2.0             1.0           2.0   \n",
       "1041           1.0            4.0             1.0           4.0   \n",
       "\n",
       "      against_steel  against_fairy  \n",
       "0               1.0            0.5  \n",
       "1               1.0            0.5  \n",
       "2               1.0            0.5  \n",
       "3               1.0            0.5  \n",
       "4               0.5            0.5  \n",
       "...             ...            ...  \n",
       "1037            2.0            1.0  \n",
       "1038            1.0            1.0  \n",
       "1039            1.0            1.0  \n",
       "1040            2.0            1.0  \n",
       "1041            1.0            1.0  \n",
       "\n",
       "[1042 rows x 48 columns]"
      ]
     },
     "execution_count": 4,
     "metadata": {},
     "output_type": "execute_result"
    }
   ],
   "source": [
    "#check\n",
    "df"
   ]
  },
  {
   "cell_type": "code",
   "execution_count": 5,
   "id": "379641c7-0d0d-4e6a-a147-6b5db0ff8279",
   "metadata": {},
   "outputs": [
    {
     "data": {
      "text/plain": [
       "0"
      ]
     },
     "execution_count": 5,
     "metadata": {},
     "output_type": "execute_result"
    }
   ],
   "source": [
    "#assuring our prep function took care of nulls\n",
    "df.isna().sum().sum()"
   ]
  },
  {
   "cell_type": "code",
   "execution_count": 6,
   "id": "473368e8-d829-49ef-bb83-a0880448ab7f",
   "metadata": {},
   "outputs": [
    {
     "data": {
      "text/html": [
       "<div>\n",
       "<style scoped>\n",
       "    .dataframe tbody tr th:only-of-type {\n",
       "        vertical-align: middle;\n",
       "    }\n",
       "\n",
       "    .dataframe tbody tr th {\n",
       "        vertical-align: top;\n",
       "    }\n",
       "\n",
       "    .dataframe thead th {\n",
       "        text-align: right;\n",
       "    }\n",
       "</style>\n",
       "<table border=\"1\" class=\"dataframe\">\n",
       "  <thead>\n",
       "    <tr style=\"text-align: right;\">\n",
       "      <th></th>\n",
       "      <th>pokedex_number</th>\n",
       "      <th>name</th>\n",
       "      <th>generation</th>\n",
       "      <th>status</th>\n",
       "      <th>species</th>\n",
       "      <th>type_number</th>\n",
       "      <th>type_1</th>\n",
       "      <th>type_2</th>\n",
       "      <th>height_m</th>\n",
       "      <th>weight_kg</th>\n",
       "      <th>...</th>\n",
       "      <th>against_ground</th>\n",
       "      <th>against_flying</th>\n",
       "      <th>against_psychic</th>\n",
       "      <th>against_bug</th>\n",
       "      <th>against_rock</th>\n",
       "      <th>against_ghost</th>\n",
       "      <th>against_dragon</th>\n",
       "      <th>against_dark</th>\n",
       "      <th>against_steel</th>\n",
       "      <th>against_fairy</th>\n",
       "    </tr>\n",
       "  </thead>\n",
       "  <tbody>\n",
       "    <tr>\n",
       "      <th>947</th>\n",
       "      <td>813</td>\n",
       "      <td>Scorbunny</td>\n",
       "      <td>8</td>\n",
       "      <td>Normal</td>\n",
       "      <td>Rabbit Pokémon</td>\n",
       "      <td>1</td>\n",
       "      <td>Fire</td>\n",
       "      <td>None</td>\n",
       "      <td>0.3</td>\n",
       "      <td>4.5</td>\n",
       "      <td>...</td>\n",
       "      <td>2.0</td>\n",
       "      <td>1.0</td>\n",
       "      <td>1.0</td>\n",
       "      <td>0.5</td>\n",
       "      <td>2.0</td>\n",
       "      <td>1.0</td>\n",
       "      <td>1.0</td>\n",
       "      <td>1.0</td>\n",
       "      <td>0.5</td>\n",
       "      <td>0.5</td>\n",
       "    </tr>\n",
       "  </tbody>\n",
       "</table>\n",
       "<p>1 rows × 48 columns</p>\n",
       "</div>"
      ],
      "text/plain": [
       "     pokedex_number       name  generation  status         species  \\\n",
       "947             813  Scorbunny           8  Normal  Rabbit Pokémon   \n",
       "\n",
       "     type_number type_1 type_2  height_m  weight_kg  ...  against_ground  \\\n",
       "947            1   Fire   None       0.3        4.5  ...             2.0   \n",
       "\n",
       "    against_flying against_psychic against_bug  against_rock  against_ghost  \\\n",
       "947            1.0             1.0         0.5           2.0            1.0   \n",
       "\n",
       "     against_dragon  against_dark  against_steel  against_fairy  \n",
       "947             1.0           1.0            0.5            0.5  \n",
       "\n",
       "[1 rows x 48 columns]"
      ]
     },
     "execution_count": 6,
     "metadata": {},
     "output_type": "execute_result"
    }
   ],
   "source": [
    "#pulling up data for my starter\n",
    "df[df.name=='Scorbunny']"
   ]
  },
  {
   "cell_type": "code",
   "execution_count": 7,
   "id": "acc5f56a-5b16-4f2e-9067-883ffd7cf264",
   "metadata": {},
   "outputs": [
    {
     "data": {
      "text/html": [
       "<div>\n",
       "<style scoped>\n",
       "    .dataframe tbody tr th:only-of-type {\n",
       "        vertical-align: middle;\n",
       "    }\n",
       "\n",
       "    .dataframe tbody tr th {\n",
       "        vertical-align: top;\n",
       "    }\n",
       "\n",
       "    .dataframe thead th {\n",
       "        text-align: right;\n",
       "    }\n",
       "</style>\n",
       "<table border=\"1\" class=\"dataframe\">\n",
       "  <thead>\n",
       "    <tr style=\"text-align: right;\">\n",
       "      <th></th>\n",
       "      <th>pokedex_number</th>\n",
       "      <th>name</th>\n",
       "      <th>generation</th>\n",
       "      <th>status</th>\n",
       "      <th>species</th>\n",
       "      <th>type_number</th>\n",
       "      <th>type_1</th>\n",
       "      <th>type_2</th>\n",
       "      <th>height_m</th>\n",
       "      <th>weight_kg</th>\n",
       "      <th>...</th>\n",
       "      <th>against_ground</th>\n",
       "      <th>against_flying</th>\n",
       "      <th>against_psychic</th>\n",
       "      <th>against_bug</th>\n",
       "      <th>against_rock</th>\n",
       "      <th>against_ghost</th>\n",
       "      <th>against_dragon</th>\n",
       "      <th>against_dark</th>\n",
       "      <th>against_steel</th>\n",
       "      <th>against_fairy</th>\n",
       "    </tr>\n",
       "  </thead>\n",
       "  <tbody>\n",
       "    <tr>\n",
       "      <th>948</th>\n",
       "      <td>814</td>\n",
       "      <td>Raboot</td>\n",
       "      <td>8</td>\n",
       "      <td>Normal</td>\n",
       "      <td>Rabbit Pokémon</td>\n",
       "      <td>1</td>\n",
       "      <td>Fire</td>\n",
       "      <td>None</td>\n",
       "      <td>0.6</td>\n",
       "      <td>9.0</td>\n",
       "      <td>...</td>\n",
       "      <td>2.0</td>\n",
       "      <td>1.0</td>\n",
       "      <td>1.0</td>\n",
       "      <td>0.5</td>\n",
       "      <td>2.0</td>\n",
       "      <td>1.0</td>\n",
       "      <td>1.0</td>\n",
       "      <td>1.0</td>\n",
       "      <td>0.5</td>\n",
       "      <td>0.5</td>\n",
       "    </tr>\n",
       "  </tbody>\n",
       "</table>\n",
       "<p>1 rows × 48 columns</p>\n",
       "</div>"
      ],
      "text/plain": [
       "     pokedex_number    name  generation  status         species  type_number  \\\n",
       "948             814  Raboot           8  Normal  Rabbit Pokémon            1   \n",
       "\n",
       "    type_1 type_2  height_m  weight_kg  ...  against_ground against_flying  \\\n",
       "948   Fire   None       0.6        9.0  ...             2.0            1.0   \n",
       "\n",
       "    against_psychic against_bug  against_rock  against_ghost  against_dragon  \\\n",
       "948             1.0         0.5           2.0            1.0             1.0   \n",
       "\n",
       "     against_dark  against_steel  against_fairy  \n",
       "948           1.0            0.5            0.5  \n",
       "\n",
       "[1 rows x 48 columns]"
      ]
     },
     "execution_count": 7,
     "metadata": {},
     "output_type": "execute_result"
    }
   ],
   "source": [
    "#his next form\n",
    "df[df.name=='Raboot']"
   ]
  },
  {
   "cell_type": "code",
   "execution_count": 8,
   "id": "973c62fe-a6b0-4f0c-b33d-551f5e1010aa",
   "metadata": {},
   "outputs": [
    {
     "data": {
      "text/html": [
       "<div>\n",
       "<style scoped>\n",
       "    .dataframe tbody tr th:only-of-type {\n",
       "        vertical-align: middle;\n",
       "    }\n",
       "\n",
       "    .dataframe tbody tr th {\n",
       "        vertical-align: top;\n",
       "    }\n",
       "\n",
       "    .dataframe thead th {\n",
       "        text-align: right;\n",
       "    }\n",
       "</style>\n",
       "<table border=\"1\" class=\"dataframe\">\n",
       "  <thead>\n",
       "    <tr style=\"text-align: right;\">\n",
       "      <th></th>\n",
       "      <th>pokedex_number</th>\n",
       "      <th>name</th>\n",
       "      <th>generation</th>\n",
       "      <th>status</th>\n",
       "      <th>species</th>\n",
       "      <th>type_number</th>\n",
       "      <th>type_1</th>\n",
       "      <th>type_2</th>\n",
       "      <th>height_m</th>\n",
       "      <th>weight_kg</th>\n",
       "      <th>...</th>\n",
       "      <th>against_ground</th>\n",
       "      <th>against_flying</th>\n",
       "      <th>against_psychic</th>\n",
       "      <th>against_bug</th>\n",
       "      <th>against_rock</th>\n",
       "      <th>against_ghost</th>\n",
       "      <th>against_dragon</th>\n",
       "      <th>against_dark</th>\n",
       "      <th>against_steel</th>\n",
       "      <th>against_fairy</th>\n",
       "    </tr>\n",
       "  </thead>\n",
       "  <tbody>\n",
       "    <tr>\n",
       "      <th>949</th>\n",
       "      <td>815</td>\n",
       "      <td>Cinderace</td>\n",
       "      <td>8</td>\n",
       "      <td>Normal</td>\n",
       "      <td>Striker Pokémon</td>\n",
       "      <td>1</td>\n",
       "      <td>Fire</td>\n",
       "      <td>None</td>\n",
       "      <td>1.4</td>\n",
       "      <td>33.0</td>\n",
       "      <td>...</td>\n",
       "      <td>2.0</td>\n",
       "      <td>1.0</td>\n",
       "      <td>1.0</td>\n",
       "      <td>0.5</td>\n",
       "      <td>2.0</td>\n",
       "      <td>1.0</td>\n",
       "      <td>1.0</td>\n",
       "      <td>1.0</td>\n",
       "      <td>0.5</td>\n",
       "      <td>0.5</td>\n",
       "    </tr>\n",
       "  </tbody>\n",
       "</table>\n",
       "<p>1 rows × 48 columns</p>\n",
       "</div>"
      ],
      "text/plain": [
       "     pokedex_number       name  generation  status          species  \\\n",
       "949             815  Cinderace           8  Normal  Striker Pokémon   \n",
       "\n",
       "     type_number type_1 type_2  height_m  weight_kg  ...  against_ground  \\\n",
       "949            1   Fire   None       1.4       33.0  ...             2.0   \n",
       "\n",
       "    against_flying against_psychic against_bug  against_rock  against_ghost  \\\n",
       "949            1.0             1.0         0.5           2.0            1.0   \n",
       "\n",
       "     against_dragon  against_dark  against_steel  against_fairy  \n",
       "949             1.0           1.0            0.5            0.5  \n",
       "\n",
       "[1 rows x 48 columns]"
      ]
     },
     "execution_count": 8,
     "metadata": {},
     "output_type": "execute_result"
    }
   ],
   "source": [
    "#his final form?\n",
    "df[df.name=='Cinderace']"
   ]
  },
  {
   "cell_type": "code",
   "execution_count": 9,
   "id": "71a7b8b2-d65b-4acf-8d9b-64c5cd72ab95",
   "metadata": {},
   "outputs": [],
   "source": [
    "#anyways I just thought that would be fun to see, let's start exploring"
   ]
  },
  {
   "cell_type": "code",
   "execution_count": 10,
   "id": "659ea6e5-af8d-43a7-8deb-5518f7fecefd",
   "metadata": {},
   "outputs": [
    {
     "data": {
      "text/plain": [
       "pokedex_number        int64\n",
       "name                 object\n",
       "generation            int64\n",
       "status               object\n",
       "species              object\n",
       "type_number           int64\n",
       "type_1               object\n",
       "type_2               object\n",
       "height_m            float64\n",
       "weight_kg           float64\n",
       "abilities_number      int64\n",
       "ability_1            object\n",
       "ability_2            object\n",
       "ability_hidden       object\n",
       "total_points          int64\n",
       "hp                    int64\n",
       "attack                int64\n",
       "defense               int64\n",
       "sp_attack             int64\n",
       "sp_defense            int64\n",
       "speed                 int64\n",
       "catch_rate          float64\n",
       "base_friendship     float64\n",
       "base_experience     float64\n",
       "growth_rate          object\n",
       "egg_type_number       int64\n",
       "egg_type_1           object\n",
       "egg_type_2           object\n",
       "percentage_male      object\n",
       "egg_cycles          float64\n",
       "against_normal      float64\n",
       "against_fire        float64\n",
       "against_water       float64\n",
       "against_electric    float64\n",
       "against_grass       float64\n",
       "against_ice         float64\n",
       "against_fight       float64\n",
       "against_poison      float64\n",
       "against_ground      float64\n",
       "against_flying      float64\n",
       "against_psychic     float64\n",
       "against_bug         float64\n",
       "against_rock        float64\n",
       "against_ghost       float64\n",
       "against_dragon      float64\n",
       "against_dark        float64\n",
       "against_steel       float64\n",
       "against_fairy       float64\n",
       "dtype: object"
      ]
     },
     "execution_count": 10,
     "metadata": {},
     "output_type": "execute_result"
    }
   ],
   "source": [
    "df.dtypes"
   ]
  },
  {
   "cell_type": "code",
   "execution_count": 11,
   "id": "60f50749-88f2-49ab-b8d8-ccbb17e723c2",
   "metadata": {},
   "outputs": [],
   "source": [
    "df = df.drop(columns=['pokedex_number','catch_rate','base_friendship','base_experience','egg_type_number','egg_type_1','egg_type_2','percentage_male','egg_cycles'])"
   ]
  },
  {
   "cell_type": "code",
   "execution_count": 12,
   "id": "367047e0-455b-4c3b-96f0-181bf5263155",
   "metadata": {},
   "outputs": [
    {
     "data": {
      "text/html": [
       "<div>\n",
       "<style scoped>\n",
       "    .dataframe tbody tr th:only-of-type {\n",
       "        vertical-align: middle;\n",
       "    }\n",
       "\n",
       "    .dataframe tbody tr th {\n",
       "        vertical-align: top;\n",
       "    }\n",
       "\n",
       "    .dataframe thead th {\n",
       "        text-align: right;\n",
       "    }\n",
       "</style>\n",
       "<table border=\"1\" class=\"dataframe\">\n",
       "  <thead>\n",
       "    <tr style=\"text-align: right;\">\n",
       "      <th></th>\n",
       "      <th>name</th>\n",
       "      <th>generation</th>\n",
       "      <th>status</th>\n",
       "      <th>species</th>\n",
       "      <th>type_number</th>\n",
       "      <th>type_1</th>\n",
       "      <th>type_2</th>\n",
       "      <th>height_m</th>\n",
       "      <th>weight_kg</th>\n",
       "      <th>abilities_number</th>\n",
       "      <th>...</th>\n",
       "      <th>against_ground</th>\n",
       "      <th>against_flying</th>\n",
       "      <th>against_psychic</th>\n",
       "      <th>against_bug</th>\n",
       "      <th>against_rock</th>\n",
       "      <th>against_ghost</th>\n",
       "      <th>against_dragon</th>\n",
       "      <th>against_dark</th>\n",
       "      <th>against_steel</th>\n",
       "      <th>against_fairy</th>\n",
       "    </tr>\n",
       "  </thead>\n",
       "  <tbody>\n",
       "    <tr>\n",
       "      <th>0</th>\n",
       "      <td>Bulbasaur</td>\n",
       "      <td>1</td>\n",
       "      <td>Normal</td>\n",
       "      <td>Seed Pokémon</td>\n",
       "      <td>2</td>\n",
       "      <td>Grass</td>\n",
       "      <td>Poison</td>\n",
       "      <td>0.7</td>\n",
       "      <td>6.9</td>\n",
       "      <td>2</td>\n",
       "      <td>...</td>\n",
       "      <td>1.0</td>\n",
       "      <td>2.0</td>\n",
       "      <td>2.0</td>\n",
       "      <td>1.0</td>\n",
       "      <td>1.0</td>\n",
       "      <td>1.0</td>\n",
       "      <td>1.0</td>\n",
       "      <td>1.0</td>\n",
       "      <td>1.0</td>\n",
       "      <td>0.5</td>\n",
       "    </tr>\n",
       "    <tr>\n",
       "      <th>1</th>\n",
       "      <td>Ivysaur</td>\n",
       "      <td>1</td>\n",
       "      <td>Normal</td>\n",
       "      <td>Seed Pokémon</td>\n",
       "      <td>2</td>\n",
       "      <td>Grass</td>\n",
       "      <td>Poison</td>\n",
       "      <td>1.0</td>\n",
       "      <td>13.0</td>\n",
       "      <td>2</td>\n",
       "      <td>...</td>\n",
       "      <td>1.0</td>\n",
       "      <td>2.0</td>\n",
       "      <td>2.0</td>\n",
       "      <td>1.0</td>\n",
       "      <td>1.0</td>\n",
       "      <td>1.0</td>\n",
       "      <td>1.0</td>\n",
       "      <td>1.0</td>\n",
       "      <td>1.0</td>\n",
       "      <td>0.5</td>\n",
       "    </tr>\n",
       "    <tr>\n",
       "      <th>2</th>\n",
       "      <td>Venusaur</td>\n",
       "      <td>1</td>\n",
       "      <td>Normal</td>\n",
       "      <td>Seed Pokémon</td>\n",
       "      <td>2</td>\n",
       "      <td>Grass</td>\n",
       "      <td>Poison</td>\n",
       "      <td>2.0</td>\n",
       "      <td>100.0</td>\n",
       "      <td>2</td>\n",
       "      <td>...</td>\n",
       "      <td>1.0</td>\n",
       "      <td>2.0</td>\n",
       "      <td>2.0</td>\n",
       "      <td>1.0</td>\n",
       "      <td>1.0</td>\n",
       "      <td>1.0</td>\n",
       "      <td>1.0</td>\n",
       "      <td>1.0</td>\n",
       "      <td>1.0</td>\n",
       "      <td>0.5</td>\n",
       "    </tr>\n",
       "    <tr>\n",
       "      <th>3</th>\n",
       "      <td>Mega Venusaur</td>\n",
       "      <td>1</td>\n",
       "      <td>Normal</td>\n",
       "      <td>Seed Pokémon</td>\n",
       "      <td>2</td>\n",
       "      <td>Grass</td>\n",
       "      <td>Poison</td>\n",
       "      <td>2.4</td>\n",
       "      <td>155.5</td>\n",
       "      <td>1</td>\n",
       "      <td>...</td>\n",
       "      <td>1.0</td>\n",
       "      <td>2.0</td>\n",
       "      <td>2.0</td>\n",
       "      <td>1.0</td>\n",
       "      <td>1.0</td>\n",
       "      <td>1.0</td>\n",
       "      <td>1.0</td>\n",
       "      <td>1.0</td>\n",
       "      <td>1.0</td>\n",
       "      <td>0.5</td>\n",
       "    </tr>\n",
       "    <tr>\n",
       "      <th>4</th>\n",
       "      <td>Charmander</td>\n",
       "      <td>1</td>\n",
       "      <td>Normal</td>\n",
       "      <td>Lizard Pokémon</td>\n",
       "      <td>1</td>\n",
       "      <td>Fire</td>\n",
       "      <td>None</td>\n",
       "      <td>0.6</td>\n",
       "      <td>8.5</td>\n",
       "      <td>2</td>\n",
       "      <td>...</td>\n",
       "      <td>2.0</td>\n",
       "      <td>1.0</td>\n",
       "      <td>1.0</td>\n",
       "      <td>0.5</td>\n",
       "      <td>2.0</td>\n",
       "      <td>1.0</td>\n",
       "      <td>1.0</td>\n",
       "      <td>1.0</td>\n",
       "      <td>0.5</td>\n",
       "      <td>0.5</td>\n",
       "    </tr>\n",
       "    <tr>\n",
       "      <th>...</th>\n",
       "      <td>...</td>\n",
       "      <td>...</td>\n",
       "      <td>...</td>\n",
       "      <td>...</td>\n",
       "      <td>...</td>\n",
       "      <td>...</td>\n",
       "      <td>...</td>\n",
       "      <td>...</td>\n",
       "      <td>...</td>\n",
       "      <td>...</td>\n",
       "      <td>...</td>\n",
       "      <td>...</td>\n",
       "      <td>...</td>\n",
       "      <td>...</td>\n",
       "      <td>...</td>\n",
       "      <td>...</td>\n",
       "      <td>...</td>\n",
       "      <td>...</td>\n",
       "      <td>...</td>\n",
       "      <td>...</td>\n",
       "      <td>...</td>\n",
       "    </tr>\n",
       "    <tr>\n",
       "      <th>1037</th>\n",
       "      <td>Glastrier</td>\n",
       "      <td>8</td>\n",
       "      <td>Sub Legendary</td>\n",
       "      <td>Wild Horse Pokémon</td>\n",
       "      <td>1</td>\n",
       "      <td>Ice</td>\n",
       "      <td>None</td>\n",
       "      <td>2.2</td>\n",
       "      <td>800.0</td>\n",
       "      <td>1</td>\n",
       "      <td>...</td>\n",
       "      <td>1.0</td>\n",
       "      <td>1.0</td>\n",
       "      <td>1.0</td>\n",
       "      <td>1.0</td>\n",
       "      <td>2.0</td>\n",
       "      <td>1.0</td>\n",
       "      <td>1.0</td>\n",
       "      <td>1.0</td>\n",
       "      <td>2.0</td>\n",
       "      <td>1.0</td>\n",
       "    </tr>\n",
       "    <tr>\n",
       "      <th>1038</th>\n",
       "      <td>Spectrier</td>\n",
       "      <td>8</td>\n",
       "      <td>Sub Legendary</td>\n",
       "      <td>Swift Horse Pokémon</td>\n",
       "      <td>1</td>\n",
       "      <td>Ghost</td>\n",
       "      <td>None</td>\n",
       "      <td>2.0</td>\n",
       "      <td>44.5</td>\n",
       "      <td>1</td>\n",
       "      <td>...</td>\n",
       "      <td>1.0</td>\n",
       "      <td>1.0</td>\n",
       "      <td>1.0</td>\n",
       "      <td>0.5</td>\n",
       "      <td>1.0</td>\n",
       "      <td>2.0</td>\n",
       "      <td>1.0</td>\n",
       "      <td>2.0</td>\n",
       "      <td>1.0</td>\n",
       "      <td>1.0</td>\n",
       "    </tr>\n",
       "    <tr>\n",
       "      <th>1039</th>\n",
       "      <td>Calyrex</td>\n",
       "      <td>8</td>\n",
       "      <td>Legendary</td>\n",
       "      <td>King Pokémon</td>\n",
       "      <td>2</td>\n",
       "      <td>Psychic</td>\n",
       "      <td>Grass</td>\n",
       "      <td>1.1</td>\n",
       "      <td>7.7</td>\n",
       "      <td>1</td>\n",
       "      <td>...</td>\n",
       "      <td>0.5</td>\n",
       "      <td>2.0</td>\n",
       "      <td>0.5</td>\n",
       "      <td>4.0</td>\n",
       "      <td>1.0</td>\n",
       "      <td>2.0</td>\n",
       "      <td>1.0</td>\n",
       "      <td>2.0</td>\n",
       "      <td>1.0</td>\n",
       "      <td>1.0</td>\n",
       "    </tr>\n",
       "    <tr>\n",
       "      <th>1040</th>\n",
       "      <td>Calyrex Ice Rider</td>\n",
       "      <td>8</td>\n",
       "      <td>Legendary</td>\n",
       "      <td>High King Pokémon</td>\n",
       "      <td>2</td>\n",
       "      <td>Psychic</td>\n",
       "      <td>Ice</td>\n",
       "      <td>2.4</td>\n",
       "      <td>809.1</td>\n",
       "      <td>1</td>\n",
       "      <td>...</td>\n",
       "      <td>1.0</td>\n",
       "      <td>1.0</td>\n",
       "      <td>0.5</td>\n",
       "      <td>2.0</td>\n",
       "      <td>2.0</td>\n",
       "      <td>2.0</td>\n",
       "      <td>1.0</td>\n",
       "      <td>2.0</td>\n",
       "      <td>2.0</td>\n",
       "      <td>1.0</td>\n",
       "    </tr>\n",
       "    <tr>\n",
       "      <th>1041</th>\n",
       "      <td>Calyrex Shadow Rider</td>\n",
       "      <td>8</td>\n",
       "      <td>Legendary</td>\n",
       "      <td>High King Pokémon</td>\n",
       "      <td>2</td>\n",
       "      <td>Psychic</td>\n",
       "      <td>Ghost</td>\n",
       "      <td>2.4</td>\n",
       "      <td>53.6</td>\n",
       "      <td>1</td>\n",
       "      <td>...</td>\n",
       "      <td>1.0</td>\n",
       "      <td>1.0</td>\n",
       "      <td>0.5</td>\n",
       "      <td>1.0</td>\n",
       "      <td>1.0</td>\n",
       "      <td>4.0</td>\n",
       "      <td>1.0</td>\n",
       "      <td>4.0</td>\n",
       "      <td>1.0</td>\n",
       "      <td>1.0</td>\n",
       "    </tr>\n",
       "  </tbody>\n",
       "</table>\n",
       "<p>1042 rows × 39 columns</p>\n",
       "</div>"
      ],
      "text/plain": [
       "                      name  generation         status              species  \\\n",
       "0                Bulbasaur           1         Normal         Seed Pokémon   \n",
       "1                  Ivysaur           1         Normal         Seed Pokémon   \n",
       "2                 Venusaur           1         Normal         Seed Pokémon   \n",
       "3            Mega Venusaur           1         Normal         Seed Pokémon   \n",
       "4               Charmander           1         Normal       Lizard Pokémon   \n",
       "...                    ...         ...            ...                  ...   \n",
       "1037             Glastrier           8  Sub Legendary   Wild Horse Pokémon   \n",
       "1038             Spectrier           8  Sub Legendary  Swift Horse Pokémon   \n",
       "1039               Calyrex           8      Legendary         King Pokémon   \n",
       "1040     Calyrex Ice Rider           8      Legendary    High King Pokémon   \n",
       "1041  Calyrex Shadow Rider           8      Legendary    High King Pokémon   \n",
       "\n",
       "      type_number   type_1  type_2  height_m  weight_kg  abilities_number  \\\n",
       "0               2    Grass  Poison       0.7        6.9                 2   \n",
       "1               2    Grass  Poison       1.0       13.0                 2   \n",
       "2               2    Grass  Poison       2.0      100.0                 2   \n",
       "3               2    Grass  Poison       2.4      155.5                 1   \n",
       "4               1     Fire    None       0.6        8.5                 2   \n",
       "...           ...      ...     ...       ...        ...               ...   \n",
       "1037            1      Ice    None       2.2      800.0                 1   \n",
       "1038            1    Ghost    None       2.0       44.5                 1   \n",
       "1039            2  Psychic   Grass       1.1        7.7                 1   \n",
       "1040            2  Psychic     Ice       2.4      809.1                 1   \n",
       "1041            2  Psychic   Ghost       2.4       53.6                 1   \n",
       "\n",
       "      ... against_ground against_flying against_psychic  against_bug  \\\n",
       "0     ...            1.0            2.0             2.0          1.0   \n",
       "1     ...            1.0            2.0             2.0          1.0   \n",
       "2     ...            1.0            2.0             2.0          1.0   \n",
       "3     ...            1.0            2.0             2.0          1.0   \n",
       "4     ...            2.0            1.0             1.0          0.5   \n",
       "...   ...            ...            ...             ...          ...   \n",
       "1037  ...            1.0            1.0             1.0          1.0   \n",
       "1038  ...            1.0            1.0             1.0          0.5   \n",
       "1039  ...            0.5            2.0             0.5          4.0   \n",
       "1040  ...            1.0            1.0             0.5          2.0   \n",
       "1041  ...            1.0            1.0             0.5          1.0   \n",
       "\n",
       "      against_rock  against_ghost  against_dragon  against_dark  \\\n",
       "0              1.0            1.0             1.0           1.0   \n",
       "1              1.0            1.0             1.0           1.0   \n",
       "2              1.0            1.0             1.0           1.0   \n",
       "3              1.0            1.0             1.0           1.0   \n",
       "4              2.0            1.0             1.0           1.0   \n",
       "...            ...            ...             ...           ...   \n",
       "1037           2.0            1.0             1.0           1.0   \n",
       "1038           1.0            2.0             1.0           2.0   \n",
       "1039           1.0            2.0             1.0           2.0   \n",
       "1040           2.0            2.0             1.0           2.0   \n",
       "1041           1.0            4.0             1.0           4.0   \n",
       "\n",
       "      against_steel  against_fairy  \n",
       "0               1.0            0.5  \n",
       "1               1.0            0.5  \n",
       "2               1.0            0.5  \n",
       "3               1.0            0.5  \n",
       "4               0.5            0.5  \n",
       "...             ...            ...  \n",
       "1037            2.0            1.0  \n",
       "1038            1.0            1.0  \n",
       "1039            1.0            1.0  \n",
       "1040            2.0            1.0  \n",
       "1041            1.0            1.0  \n",
       "\n",
       "[1042 rows x 39 columns]"
      ]
     },
     "execution_count": 12,
     "metadata": {},
     "output_type": "execute_result"
    }
   ],
   "source": [
    "df"
   ]
  },
  {
   "cell_type": "code",
   "execution_count": 13,
   "id": "5a05b102-794e-4cf0-a936-d421ee7b7f62",
   "metadata": {},
   "outputs": [],
   "source": [
    "target = 'type_1'"
   ]
  },
  {
   "cell_type": "code",
   "execution_count": 14,
   "id": "297c37c9-d7cc-447f-9ff7-88ede5bde314",
   "metadata": {},
   "outputs": [],
   "source": [
    "train, validate, test, X_train, y_train, X_validate, y_validate, X_test, y_test = train_validate_test(df, target)"
   ]
  },
  {
   "cell_type": "code",
   "execution_count": 20,
   "id": "b64f47c3-8a34-402a-8ab7-2f0067b23f2f",
   "metadata": {},
   "outputs": [
    {
     "data": {
      "text/plain": [
       "Water       134\n",
       "Normal      114\n",
       "Grass        91\n",
       "Psychic      81\n",
       "Bug          81\n",
       "Fire         65\n",
       "Electric     61\n",
       "Rock         60\n",
       "Dark         46\n",
       "Fighting     42\n",
       "Ghost        42\n",
       "Dragon       41\n",
       "Ground       41\n",
       "Poison       40\n",
       "Ice          37\n",
       "Steel        36\n",
       "Fairy        22\n",
       "Flying        8\n",
       "Name: type_1, dtype: int64"
      ]
     },
     "execution_count": 20,
     "metadata": {},
     "output_type": "execute_result"
    }
   ],
   "source": [
    "df.type_1.value_counts()"
   ]
  },
  {
   "cell_type": "code",
   "execution_count": 23,
   "id": "bbc6e709-4382-47cc-ba47-c4481b462aa8",
   "metadata": {},
   "outputs": [
    {
     "data": {
      "image/png": "[encoded data removed]",
      "text/plain": [
       "<Figure size 720x360 with 1 Axes>"
      ]
     },
     "metadata": {
      "needs_background": "light"
     },
     "output_type": "display_data"
    }
   ],
   "source": [
    "plt.figure(figsize=(10,5))\n",
    "sns.scatterplot(x='against_fire',y='against_water',data=train,hue='type_1', palette='colorblind')\n",
    "plt.title('Fire and Water', fontsize = 20)\n",
    "plt.show()\n"
   ]
  },
  {
   "cell_type": "code",
   "execution_count": 28,
   "id": "091c817d-7018-41a2-83a7-bde90d7a43fb",
   "metadata": {},
   "outputs": [
    {
     "data": {
      "image/png": "[encoded data removed]",
      "text/plain": [
       "<Figure size 421.25x360 with 1 Axes>"
      ]
     },
     "metadata": {
      "needs_background": "light"
     },
     "output_type": "display_data"
    }
   ],
   "source": [
    "sns.displot(train, x='against_fire', hue = train.type_1=='Fire', multiple= 'stack')\n",
    "plt.title('Primary Types Against Fire')\n",
    "plt.show()"
   ]
  },
  {
   "cell_type": "code",
   "execution_count": 40,
   "id": "ed59b0f9-8b6e-4d90-b66d-98e0c8d06ebb",
   "metadata": {},
   "outputs": [
    {
     "data": {
      "image/png": "[encoded data removed]",
      "text/plain": [
       "<Figure size 421.25x360 with 1 Axes>"
      ]
     },
     "metadata": {
      "needs_background": "light"
     },
     "output_type": "display_data"
    }
   ],
   "source": [
    "sns.displot(train, x='against_water', hue = train.type_1=='Fire', multiple='stack')\n",
    "plt.title('Primary Types Against Fire')\n",
    "plt.show()"
   ]
  },
  {
   "cell_type": "code",
   "execution_count": 29,
   "id": "935d6db0-8797-426f-ad77-c1a03e249ca8",
   "metadata": {},
   "outputs": [
    {
     "data": {
      "text/plain": [
       "Index(['name', 'generation', 'status', 'species', 'type_number', 'type_1',\n",
       "       'type_2', 'height_m', 'weight_kg', 'abilities_number', 'ability_1',\n",
       "       'ability_2', 'ability_hidden', 'total_points', 'hp', 'attack',\n",
       "       'defense', 'sp_attack', 'sp_defense', 'speed', 'growth_rate',\n",
       "       'against_normal', 'against_fire', 'against_water', 'against_electric',\n",
       "       'against_grass', 'against_ice', 'against_fight', 'against_poison',\n",
       "       'against_ground', 'against_flying', 'against_psychic', 'against_bug',\n",
       "       'against_rock', 'against_ghost', 'against_dragon', 'against_dark',\n",
       "       'against_steel', 'against_fairy'],\n",
       "      dtype='object')"
      ]
     },
     "execution_count": 29,
     "metadata": {},
     "output_type": "execute_result"
    }
   ],
   "source": [
    "train.columns"
   ]
  },
  {
   "cell_type": "code",
   "execution_count": 155,
   "id": "0fe68039-f5f6-40f9-9337-e95744efa87c",
   "metadata": {},
   "outputs": [],
   "source": [
    "def fire_against_types(train, x, hue, multiple='stack'):\n",
    "    cols = train.columns[21:]\n",
    "    for i in cols:\n",
    "        sns.displot(train, x=i, hue= train.type_1=='Fire', multiple='stack')"
   ]
  },
  {
   "cell_type": "code",
   "execution_count": 45,
   "id": "853cda18-d6a6-4c6d-b732-e7a0dd916f84",
   "metadata": {},
   "outputs": [
    {
     "data": {
      "image/png": "[encoded data removed]",
      "text/plain": [
       "<Figure size 421.25x360 with 1 Axes>"
      ]
     },
     "metadata": {
      "needs_background": "light"
     },
     "output_type": "display_data"
    },
    {
     "data": {
      "image/png": "[encoded data removed]",
      "text/plain": [
       "<Figure size 421.25x360 with 1 Axes>"
      ]
     },
     "metadata": {
      "needs_background": "light"
     },
     "output_type": "display_data"
    },
    {
     "data": {
      "image/png": "[encoded data removed]",
      "text/plain": [
       "<Figure size 421.25x360 with 1 Axes>"
      ]
     },
     "metadata": {
      "needs_background": "light"
     },
     "output_type": "display_data"
    },
    {
     "data": {
      "image/png": "[encoded data removed]",
      "text/plain": [
       "<Figure size 421.25x360 with 1 Axes>"
      ]
     },
     "metadata": {
      "needs_background": "light"
     },
     "output_type": "display_data"
    },
    {
     "data": {
      "image/png": "[encoded data removed]",
      "text/plain": [
       "<Figure size 421.25x360 with 1 Axes>"
      ]
     },
     "metadata": {
      "needs_background": "light"
     },
     "output_type": "display_data"
    },
    {
     "data": {
      "image/png": "[encoded data removed]",
      "text/plain": [
       "<Figure size 421.25x360 with 1 Axes>"
      ]
     },
     "metadata": {
      "needs_background": "light"
     },
     "output_type": "display_data"
    },
    {
     "data": {
      "image/png": "[encoded data removed]",
      "text/plain": [
       "<Figure size 421.25x360 with 1 Axes>"
      ]
     },
     "metadata": {
      "needs_background": "light"
     },
     "output_type": "display_data"
    },
    {
     "data": {
      "image/png": "[encoded data removed]",
      "text/plain": [
       "<Figure size 421.25x360 with 1 Axes>"
      ]
     },
     "metadata": {
      "needs_background": "light"
     },
     "output_type": "display_data"
    },
    {
     "data": {
      "image/png": "[encoded data removed]",
      "text/plain": [
       "<Figure size 421.25x360 with 1 Axes>"
      ]
     },
     "metadata": {
      "needs_background": "light"
     },
     "output_type": "display_data"
    },
    {
     "data": {
      "image/png": "[encoded data removed]",
      "text/plain": [
       "<Figure size 421.25x360 with 1 Axes>"
      ]
     },
     "metadata": {
      "needs_background": "light"
     },
     "output_type": "display_data"
    },
    {
     "data": {
      "image/png": "[encoded data removed]",
      "text/plain": [
       "<Figure size 421.25x360 with 1 Axes>"
      ]
     },
     "metadata": {
      "needs_background": "light"
     },
     "output_type": "display_data"
    },
    {
     "data": {
      "image/png": "[encoded data removed]",
      "text/plain": [
       "<Figure size 421.25x360 with 1 Axes>"
      ]
     },
     "metadata": {
      "needs_background": "light"
     },
     "output_type": "display_data"
    },
    {
     "data": {
      "image/png": "[encoded data removed]",
      "text/plain": [
       "<Figure size 421.25x360 with 1 Axes>"
      ]
     },
     "metadata": {
      "needs_background": "light"
     },
     "output_type": "display_data"
    },
    {
     "data": {
      "image/png": "[encoded data removed]",
      "text/plain": [
       "<Figure size 421.25x360 with 1 Axes>"
      ]
     },
     "metadata": {
      "needs_background": "light"
     },
     "output_type": "display_data"
    },
    {
     "data": {
      "image/png": "[encoded data removed]",
      "text/plain": [
       "<Figure size 421.25x360 with 1 Axes>"
      ]
     },
     "metadata": {
      "needs_background": "light"
     },
     "output_type": "display_data"
    },
    {
     "data": {
      "image/png": "[encoded data removed]",
      "text/plain": [
       "<Figure size 421.25x360 with 1 Axes>"
      ]
     },
     "metadata": {
      "needs_background": "light"
     },
     "output_type": "display_data"
    },
    {
     "data": {
      "image/png": "[encoded data removed]",
      "text/plain": [
       "<Figure size 421.25x360 with 1 Axes>"
      ]
     },
     "metadata": {
      "needs_background": "light"
     },
     "output_type": "display_data"
    },
    {
     "data": {
      "image/png": "[encoded data removed]",
      "text/plain": [
       "<Figure size 421.25x360 with 1 Axes>"
      ]
     },
     "metadata": {
      "needs_background": "light"
     },
     "output_type": "display_data"
    }
   ],
   "source": [
    "cols = train.columns[21:]\n",
    "hue = train.type_1=='Fire'\n",
    "for i in cols:\n",
    "    sns.displot(train, x=i, hue=train.type_1=='Fire', multiple='stack')\n",
    "    plt.show()"
   ]
  },
  {
   "cell_type": "code",
   "execution_count": 61,
   "id": "d638777f-50bb-4808-b3b7-847866265413",
   "metadata": {},
   "outputs": [],
   "source": [
    "# for col in train.columns[21:]:\n",
    "#     plt.hist(train[col])\n",
    "#     plt.title(col)\n",
    "#     plt.show()"
   ]
  },
  {
   "cell_type": "code",
   "execution_count": 47,
   "id": "00766e00-17b2-43b9-ae3e-f42e2f620b8f",
   "metadata": {},
   "outputs": [
    {
     "data": {
      "text/plain": [
       "125.0"
      ]
     },
     "execution_count": 47,
     "metadata": {},
     "output_type": "execute_result"
    }
   ],
   "source": [
    "df.against_ice.max()"
   ]
  },
  {
   "cell_type": "code",
   "execution_count": 51,
   "id": "fc211f8b-a09f-44cc-b5bc-1a2e5ab26787",
   "metadata": {},
   "outputs": [
    {
     "data": {
      "text/html": [
       "<div>\n",
       "<style scoped>\n",
       "    .dataframe tbody tr th:only-of-type {\n",
       "        vertical-align: middle;\n",
       "    }\n",
       "\n",
       "    .dataframe tbody tr th {\n",
       "        vertical-align: top;\n",
       "    }\n",
       "\n",
       "    .dataframe thead th {\n",
       "        text-align: right;\n",
       "    }\n",
       "</style>\n",
       "<table border=\"1\" class=\"dataframe\">\n",
       "  <thead>\n",
       "    <tr style=\"text-align: right;\">\n",
       "      <th></th>\n",
       "      <th>name</th>\n",
       "      <th>generation</th>\n",
       "      <th>status</th>\n",
       "      <th>species</th>\n",
       "      <th>type_number</th>\n",
       "      <th>type_1</th>\n",
       "      <th>type_2</th>\n",
       "      <th>height_m</th>\n",
       "      <th>weight_kg</th>\n",
       "      <th>abilities_number</th>\n",
       "      <th>...</th>\n",
       "      <th>against_ground</th>\n",
       "      <th>against_flying</th>\n",
       "      <th>against_psychic</th>\n",
       "      <th>against_bug</th>\n",
       "      <th>against_rock</th>\n",
       "      <th>against_ghost</th>\n",
       "      <th>against_dragon</th>\n",
       "      <th>against_dark</th>\n",
       "      <th>against_steel</th>\n",
       "      <th>against_fairy</th>\n",
       "    </tr>\n",
       "  </thead>\n",
       "  <tbody>\n",
       "    <tr>\n",
       "      <th>114</th>\n",
       "      <td>Dewgong</td>\n",
       "      <td>1</td>\n",
       "      <td>Normal</td>\n",
       "      <td>Sea Lion Pokémon</td>\n",
       "      <td>2</td>\n",
       "      <td>Water</td>\n",
       "      <td>Ice</td>\n",
       "      <td>1.7</td>\n",
       "      <td>120.0</td>\n",
       "      <td>3</td>\n",
       "      <td>...</td>\n",
       "      <td>1.0</td>\n",
       "      <td>1.0</td>\n",
       "      <td>1.0</td>\n",
       "      <td>1.0</td>\n",
       "      <td>2.0</td>\n",
       "      <td>1.0</td>\n",
       "      <td>1.0</td>\n",
       "      <td>1.0</td>\n",
       "      <td>1.0</td>\n",
       "      <td>1.0</td>\n",
       "    </tr>\n",
       "    <tr>\n",
       "      <th>434</th>\n",
       "      <td>Spheal</td>\n",
       "      <td>3</td>\n",
       "      <td>Normal</td>\n",
       "      <td>Clap Pokémon</td>\n",
       "      <td>2</td>\n",
       "      <td>Ice</td>\n",
       "      <td>Water</td>\n",
       "      <td>0.8</td>\n",
       "      <td>39.5</td>\n",
       "      <td>3</td>\n",
       "      <td>...</td>\n",
       "      <td>1.0</td>\n",
       "      <td>1.0</td>\n",
       "      <td>1.0</td>\n",
       "      <td>1.0</td>\n",
       "      <td>2.0</td>\n",
       "      <td>1.0</td>\n",
       "      <td>1.0</td>\n",
       "      <td>1.0</td>\n",
       "      <td>1.0</td>\n",
       "      <td>1.0</td>\n",
       "    </tr>\n",
       "    <tr>\n",
       "      <th>435</th>\n",
       "      <td>Sealeo</td>\n",
       "      <td>3</td>\n",
       "      <td>Normal</td>\n",
       "      <td>Ball Roll Pokémon</td>\n",
       "      <td>2</td>\n",
       "      <td>Ice</td>\n",
       "      <td>Water</td>\n",
       "      <td>1.1</td>\n",
       "      <td>87.6</td>\n",
       "      <td>3</td>\n",
       "      <td>...</td>\n",
       "      <td>1.0</td>\n",
       "      <td>1.0</td>\n",
       "      <td>1.0</td>\n",
       "      <td>1.0</td>\n",
       "      <td>2.0</td>\n",
       "      <td>1.0</td>\n",
       "      <td>1.0</td>\n",
       "      <td>1.0</td>\n",
       "      <td>1.0</td>\n",
       "      <td>1.0</td>\n",
       "    </tr>\n",
       "    <tr>\n",
       "      <th>436</th>\n",
       "      <td>Walrein</td>\n",
       "      <td>3</td>\n",
       "      <td>Normal</td>\n",
       "      <td>Ice Break Pokémon</td>\n",
       "      <td>2</td>\n",
       "      <td>Ice</td>\n",
       "      <td>Water</td>\n",
       "      <td>1.4</td>\n",
       "      <td>150.6</td>\n",
       "      <td>3</td>\n",
       "      <td>...</td>\n",
       "      <td>1.0</td>\n",
       "      <td>1.0</td>\n",
       "      <td>1.0</td>\n",
       "      <td>1.0</td>\n",
       "      <td>2.0</td>\n",
       "      <td>1.0</td>\n",
       "      <td>1.0</td>\n",
       "      <td>1.0</td>\n",
       "      <td>1.0</td>\n",
       "      <td>1.0</td>\n",
       "    </tr>\n",
       "  </tbody>\n",
       "</table>\n",
       "<p>4 rows × 39 columns</p>\n",
       "</div>"
      ],
      "text/plain": [
       "        name  generation  status            species  type_number type_1  \\\n",
       "114  Dewgong           1  Normal   Sea Lion Pokémon            2  Water   \n",
       "434   Spheal           3  Normal       Clap Pokémon            2    Ice   \n",
       "435   Sealeo           3  Normal  Ball Roll Pokémon            2    Ice   \n",
       "436  Walrein           3  Normal  Ice Break Pokémon            2    Ice   \n",
       "\n",
       "    type_2  height_m  weight_kg  abilities_number  ... against_ground  \\\n",
       "114    Ice       1.7      120.0                 3  ...            1.0   \n",
       "434  Water       0.8       39.5                 3  ...            1.0   \n",
       "435  Water       1.1       87.6                 3  ...            1.0   \n",
       "436  Water       1.4      150.6                 3  ...            1.0   \n",
       "\n",
       "    against_flying against_psychic  against_bug  against_rock  against_ghost  \\\n",
       "114            1.0             1.0          1.0           2.0            1.0   \n",
       "434            1.0             1.0          1.0           2.0            1.0   \n",
       "435            1.0             1.0          1.0           2.0            1.0   \n",
       "436            1.0             1.0          1.0           2.0            1.0   \n",
       "\n",
       "     against_dragon  against_dark  against_steel  against_fairy  \n",
       "114             1.0           1.0            1.0            1.0  \n",
       "434             1.0           1.0            1.0            1.0  \n",
       "435             1.0           1.0            1.0            1.0  \n",
       "436             1.0           1.0            1.0            1.0  \n",
       "\n",
       "[4 rows x 39 columns]"
      ]
     },
     "execution_count": 51,
     "metadata": {},
     "output_type": "execute_result"
    }
   ],
   "source": [
    "df[df.against_ice==125]"
   ]
  },
  {
   "cell_type": "code",
   "execution_count": null,
   "id": "071dbea6-e864-4834-a037-6f7e9546cc27",
   "metadata": {},
   "outputs": [],
   "source": [
    "#what's with those outliers on against_ice"
   ]
  },
  {
   "cell_type": "code",
   "execution_count": 60,
   "id": "2f97f24a-4298-4076-b563-bf3eba8e07bd",
   "metadata": {},
   "outputs": [],
   "source": [
    "df = df[(np.abs(stats.zscore(df['against_ice'])) < 3)]"
   ]
  },
  {
   "cell_type": "code",
   "execution_count": 62,
   "id": "cdab1603-b85b-4089-9e3d-65768af34f29",
   "metadata": {},
   "outputs": [],
   "source": [
    "train, validate, test, X_train, y_train, X_validate, y_validate, X_test, y_test = train_validate_test(df, target)"
   ]
  },
  {
   "cell_type": "code",
   "execution_count": 63,
   "id": "a41477e7-26ba-418b-807b-d8dd5222b530",
   "metadata": {},
   "outputs": [
    {
     "data": {
      "image/png": "[encoded data removed]",
      "text/plain": [
       "<Figure size 421.25x360 with 1 Axes>"
      ]
     },
     "metadata": {
      "needs_background": "light"
     },
     "output_type": "display_data"
    },
    {
     "data": {
      "image/png": "[encoded data removed]",
      "text/plain": [
       "<Figure size 421.25x360 with 1 Axes>"
      ]
     },
     "metadata": {
      "needs_background": "light"
     },
     "output_type": "display_data"
    },
    {
     "data": {
      "image/png": "[encoded data removed]",
      "text/plain": [
       "<Figure size 421.25x360 with 1 Axes>"
      ]
     },
     "metadata": {
      "needs_background": "light"
     },
     "output_type": "display_data"
    },
    {
     "data": {
      "image/png": "[encoded data removed]",
      "text/plain": [
       "<Figure size 421.25x360 with 1 Axes>"
      ]
     },
     "metadata": {
      "needs_background": "light"
     },
     "output_type": "display_data"
    },
    {
     "data": {
      "image/png": "[encoded data removed]",
      "text/plain": [
       "<Figure size 421.25x360 with 1 Axes>"
      ]
     },
     "metadata": {
      "needs_background": "light"
     },
     "output_type": "display_data"
    },
    {
     "data": {
      "image/png": "[encoded data removed]",
      "text/plain": [
       "<Figure size 421.25x360 with 1 Axes>"
      ]
     },
     "metadata": {
      "needs_background": "light"
     },
     "output_type": "display_data"
    },
    {
     "data": {
      "image/png": "[encoded data removed]",
      "text/plain": [
       "<Figure size 421.25x360 with 1 Axes>"
      ]
     },
     "metadata": {
      "needs_background": "light"
     },
     "output_type": "display_data"
    },
    {
     "data": {
      "image/png": "[encoded data removed]",
      "text/plain": [
       "<Figure size 421.25x360 with 1 Axes>"
      ]
     },
     "metadata": {
      "needs_background": "light"
     },
     "output_type": "display_data"
    },
    {
     "data": {
      "image/png": "[encoded data removed]",
      "text/plain": [
       "<Figure size 421.25x360 with 1 Axes>"
      ]
     },
     "metadata": {
      "needs_background": "light"
     },
     "output_type": "display_data"
    },
    {
     "data": {
      "image/png": "[encoded data removed]",
      "text/plain": [
       "<Figure size 421.25x360 with 1 Axes>"
      ]
     },
     "metadata": {
      "needs_background": "light"
     },
     "output_type": "display_data"
    },
    {
     "data": {
      "image/png": "[encoded data removed]",
      "text/plain": [
       "<Figure size 421.25x360 with 1 Axes>"
      ]
     },
     "metadata": {
      "needs_background": "light"
     },
     "output_type": "display_data"
    },
    {
     "data": {
      "image/png": "[encoded data removed]",
      "text/plain": [
       "<Figure size 421.25x360 with 1 Axes>"
      ]
     },
     "metadata": {
      "needs_background": "light"
     },
     "output_type": "display_data"
    },
    {
     "data": {
      "image/png": "[encoded data removed]",
      "text/plain": [
       "<Figure size 421.25x360 with 1 Axes>"
      ]
     },
     "metadata": {
      "needs_background": "light"
     },
     "output_type": "display_data"
    },
    {
     "data": {
      "image/png": "[encoded data removed]",
      "text/plain": [
       "<Figure size 421.25x360 with 1 Axes>"
      ]
     },
     "metadata": {
      "needs_background": "light"
     },
     "output_type": "display_data"
    },
    {
     "data": {
      "image/png": "[encoded data removed]",
      "text/plain": [
       "<Figure size 421.25x360 with 1 Axes>"
      ]
     },
     "metadata": {
      "needs_background": "light"
     },
     "output_type": "display_data"
    },
    {
     "data": {
      "image/png": "[encoded data removed]",
      "text/plain": [
       "<Figure size 421.25x360 with 1 Axes>"
      ]
     },
     "metadata": {
      "needs_background": "light"
     },
     "output_type": "display_data"
    },
    {
     "data": {
      "image/png": "[encoded data removed]",
      "text/plain": [
       "<Figure size 421.25x360 with 1 Axes>"
      ]
     },
     "metadata": {
      "needs_background": "light"
     },
     "output_type": "display_data"
    },
    {
     "data": {
      "image/png": "[encoded data removed]",
      "text/plain": [
       "<Figure size 421.25x360 with 1 Axes>"
      ]
     },
     "metadata": {
      "needs_background": "light"
     },
     "output_type": "display_data"
    }
   ],
   "source": [
    "cols = train.columns[21:]\n",
    "hue = train.type_1=='Fire'\n",
    "for i in cols:\n",
    "    sns.displot(train, x=i, hue=train.type_1=='Fire', multiple='stack')\n",
    "    plt.show()"
   ]
  },
  {
   "cell_type": "markdown",
   "id": "101cef71-3226-482f-8008-dad3692d912f",
   "metadata": {},
   "source": [
    "if the orange is in the middle/right parts of the graph, it means my Scorbunny is weak/significantly affected by it \n",
    "I did not include normal or dragon because the highest value for normal is 1, and the highest value of dragon is 2 when the norm scale is 0-4. \n",
    "\n",
    "So here are the types I need to look out for:\n",
    "\n",
    "- Water\n",
    "- Ground \n",
    "- Rock "
   ]
  },
  {
   "cell_type": "code",
   "execution_count": 136,
   "id": "c03ce79f-f371-4611-93b7-b0a4cd47588d",
   "metadata": {},
   "outputs": [
    {
     "name": "stderr",
     "output_type": "stream",
     "text": [
      "/usr/local/anaconda3/lib/python3.8/site-packages/pandas/core/indexing.py:1599: SettingWithCopyWarning: \n",
      "A value is trying to be set on a copy of a slice from a DataFrame.\n",
      "Try using .loc[row_indexer,col_indexer] = value instead\n",
      "\n",
      "See the caveats in the documentation: https://pandas.pydata.org/pandas-docs/stable/user_guide/indexing.html#returning-a-view-versus-a-copy\n",
      "  self.obj[key] = infer_fill_value(value)\n",
      "/usr/local/anaconda3/lib/python3.8/site-packages/pandas/core/indexing.py:1720: SettingWithCopyWarning: \n",
      "A value is trying to be set on a copy of a slice from a DataFrame.\n",
      "Try using .loc[row_indexer,col_indexer] = value instead\n",
      "\n",
      "See the caveats in the documentation: https://pandas.pydata.org/pandas-docs/stable/user_guide/indexing.html#returning-a-view-versus-a-copy\n",
      "  self._setitem_single_column(loc, value, pi)\n"
     ]
    }
   ],
   "source": [
    "#Thank you Xavier!!!!\n",
    "df.loc[(df['type_1']== \"Water\") | (df['type_1']== \"Ground\") | (df['type_1']== \"Rock\"), \"is_weakness\"] = 1"
   ]
  },
  {
   "cell_type": "code",
   "execution_count": 139,
   "id": "21111b0e-50db-4b6a-b1cd-413d84100400",
   "metadata": {},
   "outputs": [
    {
     "name": "stderr",
     "output_type": "stream",
     "text": [
      "/usr/local/anaconda3/lib/python3.8/site-packages/pandas/core/generic.py:5494: SettingWithCopyWarning: \n",
      "A value is trying to be set on a copy of a slice from a DataFrame.\n",
      "Try using .loc[row_indexer,col_indexer] = value instead\n",
      "\n",
      "See the caveats in the documentation: https://pandas.pydata.org/pandas-docs/stable/user_guide/indexing.html#returning-a-view-versus-a-copy\n",
      "  self[name] = value\n"
     ]
    }
   ],
   "source": [
    "#Thanks Xavier for helping me make this column. \n",
    "df.is_weakness = df.is_weakness.fillna(0)"
   ]
  },
  {
   "cell_type": "code",
   "execution_count": 149,
   "id": "d25af42f-6fcd-4e9d-9ae4-cea9296efce9",
   "metadata": {},
   "outputs": [],
   "source": [
    "df['is_weakness']= (df['is_weakness']).astype(int)"
   ]
  },
  {
   "cell_type": "code",
   "execution_count": 153,
   "id": "29aa57fa-38d9-49f5-af8d-00e22d1fdd25",
   "metadata": {},
   "outputs": [
    {
     "data": {
      "text/plain": [
       "Index(['name', 'generation', 'status', 'species', 'type_number', 'type_1',\n",
       "       'type_2', 'height_m', 'weight_kg', 'abilities_number', 'ability_1',\n",
       "       'ability_2', 'ability_hidden', 'total_points', 'hp', 'attack',\n",
       "       'defense', 'sp_attack', 'sp_defense', 'speed', 'growth_rate',\n",
       "       'against_normal', 'against_fire', 'against_water', 'against_electric',\n",
       "       'against_grass', 'against_ice', 'against_fight', 'against_poison',\n",
       "       'against_ground', 'against_flying', 'against_psychic', 'against_bug',\n",
       "       'against_rock', 'against_ghost', 'against_dragon', 'against_dark',\n",
       "       'against_steel', 'against_fairy', 'is_weakness'],\n",
       "      dtype='object')"
      ]
     },
     "execution_count": 153,
     "metadata": {},
     "output_type": "execute_result"
    }
   ],
   "source": [
    "df.columns"
   ]
  },
  {
   "cell_type": "code",
   "execution_count": null,
   "id": "94b8db5f-4fe4-4d65-af12-ac6943f89c13",
   "metadata": {},
   "outputs": [],
   "source": []
  },
  {
   "cell_type": "code",
   "execution_count": null,
   "id": "79a8023d-a712-49f2-be05-44679ad352af",
   "metadata": {},
   "outputs": [],
   "source": []
  },
  {
   "cell_type": "markdown",
   "id": "ec30381a-8946-4fd1-b0cb-9be78c21c71c",
   "metadata": {},
   "source": [
    "# Ready for Battle!!! (ready for battle, right?)"
   ]
  },
  {
   "cell_type": "code",
   "execution_count": 3,
   "id": "ecb3ac02-199c-431f-b5a0-9aba0385304c",
   "metadata": {},
   "outputs": [],
   "source": [
    "df = get_pokemon()"
   ]
  },
  {
   "cell_type": "code",
   "execution_count": 4,
   "id": "de6f39a7-1434-42b9-96df-564371a395b1",
   "metadata": {},
   "outputs": [],
   "source": [
    "df = ready_for_battle(df)"
   ]
  },
  {
   "cell_type": "code",
   "execution_count": 5,
   "id": "3dbdcabd-0874-4ea3-8002-929d5b24a70f",
   "metadata": {},
   "outputs": [
    {
     "data": {
      "text/html": [
       "<div>\n",
       "<style scoped>\n",
       "    .dataframe tbody tr th:only-of-type {\n",
       "        vertical-align: middle;\n",
       "    }\n",
       "\n",
       "    .dataframe tbody tr th {\n",
       "        vertical-align: top;\n",
       "    }\n",
       "\n",
       "    .dataframe thead th {\n",
       "        text-align: right;\n",
       "    }\n",
       "</style>\n",
       "<table border=\"1\" class=\"dataframe\">\n",
       "  <thead>\n",
       "    <tr style=\"text-align: right;\">\n",
       "      <th></th>\n",
       "      <th>pokedex_number</th>\n",
       "      <th>name</th>\n",
       "      <th>generation</th>\n",
       "      <th>status</th>\n",
       "      <th>species</th>\n",
       "      <th>type_number</th>\n",
       "      <th>type_1</th>\n",
       "      <th>type_2</th>\n",
       "      <th>height_m</th>\n",
       "      <th>weight_kg</th>\n",
       "      <th>...</th>\n",
       "      <th>against_flying</th>\n",
       "      <th>against_psychic</th>\n",
       "      <th>against_bug</th>\n",
       "      <th>against_rock</th>\n",
       "      <th>against_ghost</th>\n",
       "      <th>against_dragon</th>\n",
       "      <th>against_dark</th>\n",
       "      <th>against_steel</th>\n",
       "      <th>against_fairy</th>\n",
       "      <th>is_weakness</th>\n",
       "    </tr>\n",
       "  </thead>\n",
       "  <tbody>\n",
       "    <tr>\n",
       "      <th>0</th>\n",
       "      <td>1</td>\n",
       "      <td>Bulbasaur</td>\n",
       "      <td>1</td>\n",
       "      <td>Normal</td>\n",
       "      <td>Seed Pokémon</td>\n",
       "      <td>2</td>\n",
       "      <td>Grass</td>\n",
       "      <td>Poison</td>\n",
       "      <td>0.7</td>\n",
       "      <td>6.9</td>\n",
       "      <td>...</td>\n",
       "      <td>2.0</td>\n",
       "      <td>2.0</td>\n",
       "      <td>1.0</td>\n",
       "      <td>1.0</td>\n",
       "      <td>1.0</td>\n",
       "      <td>1.0</td>\n",
       "      <td>1.0</td>\n",
       "      <td>1.0</td>\n",
       "      <td>0.5</td>\n",
       "      <td>0</td>\n",
       "    </tr>\n",
       "    <tr>\n",
       "      <th>1</th>\n",
       "      <td>2</td>\n",
       "      <td>Ivysaur</td>\n",
       "      <td>1</td>\n",
       "      <td>Normal</td>\n",
       "      <td>Seed Pokémon</td>\n",
       "      <td>2</td>\n",
       "      <td>Grass</td>\n",
       "      <td>Poison</td>\n",
       "      <td>1.0</td>\n",
       "      <td>13.0</td>\n",
       "      <td>...</td>\n",
       "      <td>2.0</td>\n",
       "      <td>2.0</td>\n",
       "      <td>1.0</td>\n",
       "      <td>1.0</td>\n",
       "      <td>1.0</td>\n",
       "      <td>1.0</td>\n",
       "      <td>1.0</td>\n",
       "      <td>1.0</td>\n",
       "      <td>0.5</td>\n",
       "      <td>0</td>\n",
       "    </tr>\n",
       "    <tr>\n",
       "      <th>2</th>\n",
       "      <td>3</td>\n",
       "      <td>Venusaur</td>\n",
       "      <td>1</td>\n",
       "      <td>Normal</td>\n",
       "      <td>Seed Pokémon</td>\n",
       "      <td>2</td>\n",
       "      <td>Grass</td>\n",
       "      <td>Poison</td>\n",
       "      <td>2.0</td>\n",
       "      <td>100.0</td>\n",
       "      <td>...</td>\n",
       "      <td>2.0</td>\n",
       "      <td>2.0</td>\n",
       "      <td>1.0</td>\n",
       "      <td>1.0</td>\n",
       "      <td>1.0</td>\n",
       "      <td>1.0</td>\n",
       "      <td>1.0</td>\n",
       "      <td>1.0</td>\n",
       "      <td>0.5</td>\n",
       "      <td>0</td>\n",
       "    </tr>\n",
       "    <tr>\n",
       "      <th>3</th>\n",
       "      <td>3</td>\n",
       "      <td>Mega Venusaur</td>\n",
       "      <td>1</td>\n",
       "      <td>Normal</td>\n",
       "      <td>Seed Pokémon</td>\n",
       "      <td>2</td>\n",
       "      <td>Grass</td>\n",
       "      <td>Poison</td>\n",
       "      <td>2.4</td>\n",
       "      <td>155.5</td>\n",
       "      <td>...</td>\n",
       "      <td>2.0</td>\n",
       "      <td>2.0</td>\n",
       "      <td>1.0</td>\n",
       "      <td>1.0</td>\n",
       "      <td>1.0</td>\n",
       "      <td>1.0</td>\n",
       "      <td>1.0</td>\n",
       "      <td>1.0</td>\n",
       "      <td>0.5</td>\n",
       "      <td>0</td>\n",
       "    </tr>\n",
       "    <tr>\n",
       "      <th>4</th>\n",
       "      <td>4</td>\n",
       "      <td>Charmander</td>\n",
       "      <td>1</td>\n",
       "      <td>Normal</td>\n",
       "      <td>Lizard Pokémon</td>\n",
       "      <td>1</td>\n",
       "      <td>Fire</td>\n",
       "      <td>None</td>\n",
       "      <td>0.6</td>\n",
       "      <td>8.5</td>\n",
       "      <td>...</td>\n",
       "      <td>1.0</td>\n",
       "      <td>1.0</td>\n",
       "      <td>0.5</td>\n",
       "      <td>2.0</td>\n",
       "      <td>1.0</td>\n",
       "      <td>1.0</td>\n",
       "      <td>1.0</td>\n",
       "      <td>0.5</td>\n",
       "      <td>0.5</td>\n",
       "      <td>0</td>\n",
       "    </tr>\n",
       "    <tr>\n",
       "      <th>...</th>\n",
       "      <td>...</td>\n",
       "      <td>...</td>\n",
       "      <td>...</td>\n",
       "      <td>...</td>\n",
       "      <td>...</td>\n",
       "      <td>...</td>\n",
       "      <td>...</td>\n",
       "      <td>...</td>\n",
       "      <td>...</td>\n",
       "      <td>...</td>\n",
       "      <td>...</td>\n",
       "      <td>...</td>\n",
       "      <td>...</td>\n",
       "      <td>...</td>\n",
       "      <td>...</td>\n",
       "      <td>...</td>\n",
       "      <td>...</td>\n",
       "      <td>...</td>\n",
       "      <td>...</td>\n",
       "      <td>...</td>\n",
       "      <td>...</td>\n",
       "    </tr>\n",
       "    <tr>\n",
       "      <th>1033</th>\n",
       "      <td>896</td>\n",
       "      <td>Glastrier</td>\n",
       "      <td>8</td>\n",
       "      <td>Sub Legendary</td>\n",
       "      <td>Wild Horse Pokémon</td>\n",
       "      <td>1</td>\n",
       "      <td>Ice</td>\n",
       "      <td>None</td>\n",
       "      <td>2.2</td>\n",
       "      <td>800.0</td>\n",
       "      <td>...</td>\n",
       "      <td>1.0</td>\n",
       "      <td>1.0</td>\n",
       "      <td>1.0</td>\n",
       "      <td>2.0</td>\n",
       "      <td>1.0</td>\n",
       "      <td>1.0</td>\n",
       "      <td>1.0</td>\n",
       "      <td>2.0</td>\n",
       "      <td>1.0</td>\n",
       "      <td>0</td>\n",
       "    </tr>\n",
       "    <tr>\n",
       "      <th>1034</th>\n",
       "      <td>897</td>\n",
       "      <td>Spectrier</td>\n",
       "      <td>8</td>\n",
       "      <td>Sub Legendary</td>\n",
       "      <td>Swift Horse Pokémon</td>\n",
       "      <td>1</td>\n",
       "      <td>Ghost</td>\n",
       "      <td>None</td>\n",
       "      <td>2.0</td>\n",
       "      <td>44.5</td>\n",
       "      <td>...</td>\n",
       "      <td>1.0</td>\n",
       "      <td>1.0</td>\n",
       "      <td>0.5</td>\n",
       "      <td>1.0</td>\n",
       "      <td>2.0</td>\n",
       "      <td>1.0</td>\n",
       "      <td>2.0</td>\n",
       "      <td>1.0</td>\n",
       "      <td>1.0</td>\n",
       "      <td>0</td>\n",
       "    </tr>\n",
       "    <tr>\n",
       "      <th>1035</th>\n",
       "      <td>898</td>\n",
       "      <td>Calyrex</td>\n",
       "      <td>8</td>\n",
       "      <td>Legendary</td>\n",
       "      <td>King Pokémon</td>\n",
       "      <td>2</td>\n",
       "      <td>Psychic</td>\n",
       "      <td>Grass</td>\n",
       "      <td>1.1</td>\n",
       "      <td>7.7</td>\n",
       "      <td>...</td>\n",
       "      <td>2.0</td>\n",
       "      <td>0.5</td>\n",
       "      <td>4.0</td>\n",
       "      <td>1.0</td>\n",
       "      <td>2.0</td>\n",
       "      <td>1.0</td>\n",
       "      <td>2.0</td>\n",
       "      <td>1.0</td>\n",
       "      <td>1.0</td>\n",
       "      <td>0</td>\n",
       "    </tr>\n",
       "    <tr>\n",
       "      <th>1036</th>\n",
       "      <td>898</td>\n",
       "      <td>Calyrex Ice Rider</td>\n",
       "      <td>8</td>\n",
       "      <td>Legendary</td>\n",
       "      <td>High King Pokémon</td>\n",
       "      <td>2</td>\n",
       "      <td>Psychic</td>\n",
       "      <td>Ice</td>\n",
       "      <td>2.4</td>\n",
       "      <td>809.1</td>\n",
       "      <td>...</td>\n",
       "      <td>1.0</td>\n",
       "      <td>0.5</td>\n",
       "      <td>2.0</td>\n",
       "      <td>2.0</td>\n",
       "      <td>2.0</td>\n",
       "      <td>1.0</td>\n",
       "      <td>2.0</td>\n",
       "      <td>2.0</td>\n",
       "      <td>1.0</td>\n",
       "      <td>0</td>\n",
       "    </tr>\n",
       "    <tr>\n",
       "      <th>1037</th>\n",
       "      <td>898</td>\n",
       "      <td>Calyrex Shadow Rider</td>\n",
       "      <td>8</td>\n",
       "      <td>Legendary</td>\n",
       "      <td>High King Pokémon</td>\n",
       "      <td>2</td>\n",
       "      <td>Psychic</td>\n",
       "      <td>Ghost</td>\n",
       "      <td>2.4</td>\n",
       "      <td>53.6</td>\n",
       "      <td>...</td>\n",
       "      <td>1.0</td>\n",
       "      <td>0.5</td>\n",
       "      <td>1.0</td>\n",
       "      <td>1.0</td>\n",
       "      <td>4.0</td>\n",
       "      <td>1.0</td>\n",
       "      <td>4.0</td>\n",
       "      <td>1.0</td>\n",
       "      <td>1.0</td>\n",
       "      <td>0</td>\n",
       "    </tr>\n",
       "  </tbody>\n",
       "</table>\n",
       "<p>1038 rows × 41 columns</p>\n",
       "</div>"
      ],
      "text/plain": [
       "      pokedex_number                  name  generation         status  \\\n",
       "0                  1             Bulbasaur           1         Normal   \n",
       "1                  2               Ivysaur           1         Normal   \n",
       "2                  3              Venusaur           1         Normal   \n",
       "3                  3         Mega Venusaur           1         Normal   \n",
       "4                  4            Charmander           1         Normal   \n",
       "...              ...                   ...         ...            ...   \n",
       "1033             896             Glastrier           8  Sub Legendary   \n",
       "1034             897             Spectrier           8  Sub Legendary   \n",
       "1035             898               Calyrex           8      Legendary   \n",
       "1036             898     Calyrex Ice Rider           8      Legendary   \n",
       "1037             898  Calyrex Shadow Rider           8      Legendary   \n",
       "\n",
       "                  species  type_number   type_1  type_2  height_m  weight_kg  \\\n",
       "0            Seed Pokémon            2    Grass  Poison       0.7        6.9   \n",
       "1            Seed Pokémon            2    Grass  Poison       1.0       13.0   \n",
       "2            Seed Pokémon            2    Grass  Poison       2.0      100.0   \n",
       "3            Seed Pokémon            2    Grass  Poison       2.4      155.5   \n",
       "4          Lizard Pokémon            1     Fire    None       0.6        8.5   \n",
       "...                   ...          ...      ...     ...       ...        ...   \n",
       "1033   Wild Horse Pokémon            1      Ice    None       2.2      800.0   \n",
       "1034  Swift Horse Pokémon            1    Ghost    None       2.0       44.5   \n",
       "1035         King Pokémon            2  Psychic   Grass       1.1        7.7   \n",
       "1036    High King Pokémon            2  Psychic     Ice       2.4      809.1   \n",
       "1037    High King Pokémon            2  Psychic   Ghost       2.4       53.6   \n",
       "\n",
       "      ...  against_flying against_psychic against_bug against_rock  \\\n",
       "0     ...             2.0             2.0         1.0          1.0   \n",
       "1     ...             2.0             2.0         1.0          1.0   \n",
       "2     ...             2.0             2.0         1.0          1.0   \n",
       "3     ...             2.0             2.0         1.0          1.0   \n",
       "4     ...             1.0             1.0         0.5          2.0   \n",
       "...   ...             ...             ...         ...          ...   \n",
       "1033  ...             1.0             1.0         1.0          2.0   \n",
       "1034  ...             1.0             1.0         0.5          1.0   \n",
       "1035  ...             2.0             0.5         4.0          1.0   \n",
       "1036  ...             1.0             0.5         2.0          2.0   \n",
       "1037  ...             1.0             0.5         1.0          1.0   \n",
       "\n",
       "      against_ghost  against_dragon  against_dark  against_steel  \\\n",
       "0               1.0             1.0           1.0            1.0   \n",
       "1               1.0             1.0           1.0            1.0   \n",
       "2               1.0             1.0           1.0            1.0   \n",
       "3               1.0             1.0           1.0            1.0   \n",
       "4               1.0             1.0           1.0            0.5   \n",
       "...             ...             ...           ...            ...   \n",
       "1033            1.0             1.0           1.0            2.0   \n",
       "1034            2.0             1.0           2.0            1.0   \n",
       "1035            2.0             1.0           2.0            1.0   \n",
       "1036            2.0             1.0           2.0            2.0   \n",
       "1037            4.0             1.0           4.0            1.0   \n",
       "\n",
       "      against_fairy  is_weakness  \n",
       "0               0.5            0  \n",
       "1               0.5            0  \n",
       "2               0.5            0  \n",
       "3               0.5            0  \n",
       "4               0.5            0  \n",
       "...             ...          ...  \n",
       "1033            1.0            0  \n",
       "1034            1.0            0  \n",
       "1035            1.0            0  \n",
       "1036            1.0            0  \n",
       "1037            1.0            0  \n",
       "\n",
       "[1038 rows x 41 columns]"
      ]
     },
     "execution_count": 5,
     "metadata": {},
     "output_type": "execute_result"
    }
   ],
   "source": [
    "df"
   ]
  },
  {
   "cell_type": "code",
   "execution_count": 6,
   "id": "befa2cc4-4a26-4f35-8ad1-57dac168c65b",
   "metadata": {},
   "outputs": [
    {
     "data": {
      "text/plain": [
       "0"
      ]
     },
     "execution_count": 6,
     "metadata": {},
     "output_type": "execute_result"
    }
   ],
   "source": []
  },
  {
   "cell_type": "code",
   "execution_count": null,
   "id": "8b097d5c-1b2a-49e0-9d49-93dacf9afc25",
   "metadata": {},
   "outputs": [],
   "source": []
  }
 ],
 "metadata": {
  "kernelspec": {
   "display_name": "Python 3",
   "language": "python",
   "name": "python3"
  },
  "language_info": {
   "codemirror_mode": {
    "name": "ipython",
    "version": 3
   },
   "file_extension": ".py",
   "mimetype": "text/x-python",
   "name": "python",
   "nbconvert_exporter": "python",
   "pygments_lexer": "ipython3",
   "version": "3.8.5"
  }
 },
 "nbformat": 4,
 "nbformat_minor": 5
}
